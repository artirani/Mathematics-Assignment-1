{
 "cells": [
  {
   "cell_type": "code",
   "execution_count": 16,
   "id": "76aacaeb",
   "metadata": {},
   "outputs": [
    {
     "name": "stdout",
     "output_type": "stream",
     "text": [
      "\n",
      " Matrix A is:\n",
      "\n",
      "         3         -2          4 \n",
      "\n",
      "        -2          6          2 \n",
      "\n",
      "         4          2          3 \n",
      "\n"
     ]
    },
    {
     "data": {
      "text/html": [
       "<div>\n",
       "<style scoped>\n",
       "    .dataframe tbody tr th:only-of-type {\n",
       "        vertical-align: middle;\n",
       "    }\n",
       "\n",
       "    .dataframe tbody tr th {\n",
       "        vertical-align: top;\n",
       "    }\n",
       "\n",
       "    .dataframe thead th {\n",
       "        text-align: right;\n",
       "    }\n",
       "</style>\n",
       "<table border=\"1\" class=\"dataframe\">\n",
       "  <thead>\n",
       "    <tr style=\"text-align: right;\">\n",
       "      <th></th>\n",
       "      <th>vector b</th>\n",
       "    </tr>\n",
       "  </thead>\n",
       "  <tbody>\n",
       "    <tr>\n",
       "      <th>0</th>\n",
       "      <td>6</td>\n",
       "    </tr>\n",
       "    <tr>\n",
       "      <th>1</th>\n",
       "      <td>-4</td>\n",
       "    </tr>\n",
       "    <tr>\n",
       "      <th>2</th>\n",
       "      <td>27</td>\n",
       "    </tr>\n",
       "  </tbody>\n",
       "</table>\n",
       "</div>"
      ],
      "text/plain": [
       "   vector b\n",
       "0         6\n",
       "1        -4\n",
       "2        27"
      ]
     },
     "execution_count": 16,
     "metadata": {},
     "output_type": "execute_result"
    }
   ],
   "source": [
    "# TASK(a).......................\n",
    "\n",
    "import pandas as pd\n",
    "import csv\n",
    "#for Reading Matrix A from CSV file---------------------------------------------------------\n",
    "\n",
    "filename = \"matrix.csv\"\n",
    " \n",
    "# initializing the titles and rows list\n",
    "fields = []\n",
    "rows = []\n",
    " \n",
    "# reading csv file\n",
    "with open(filename, 'r') as csvfile:\n",
    "    # creating a csv reader object\n",
    "    csvreader = csv.reader(csvfile)\n",
    "     \n",
    "    # extracting field names through first row\n",
    "    fields = next(csvreader)\n",
    " \n",
    "    # extracting each data row one by one\n",
    "    for row in csvreader:\n",
    "        rows.append(row)\n",
    "print('\\n Matrix A is:\\n')\n",
    "for row in rows[:3]:\n",
    "    # parsing each column of a row\n",
    "    for col in row:\n",
    "        print(\"%10s\"%col,end=\" \"),\n",
    "    print('\\n')\n",
    "    \n",
    "#for reading vector matrix from csv file-----------------------------------------------\n",
    "\n",
    "vector = pd.read_csv(\"vector.csv\")\n",
    "vector\n"
   ]
  },
  {
   "cell_type": "code",
   "execution_count": 17,
   "id": "23329618",
   "metadata": {
    "scrolled": true
   },
   "outputs": [
    {
     "name": "stdout",
     "output_type": "stream",
     "text": [
      "\n",
      " Lower Triangular Matrix(L) :\n",
      " [[ 1.    0.    0.  ]\n",
      " [-0.5   1.    0.  ]\n",
      " [ 0.75 -0.5   1.  ]]\n",
      "\n",
      " Upper Triangular Matrix(U) :\n",
      " [[4.  2.  3. ]\n",
      " [0.  7.  3.5]\n",
      " [0.  0.  3.5]]\n",
      "\n",
      " After LU decomposition, original matrix is: \n",
      " [[ 3. -2.  4.]\n",
      " [-2.  6.  2.]\n",
      " [ 4.  2.  3.]]\n"
     ]
    }
   ],
   "source": [
    "# Task(b)............................\n",
    "import numpy as np\n",
    "import scipy.linalg as lg\n",
    "P,L,U = lg.lu(rows)\n",
    "print(\"\\n Lower Triangular Matrix(L) :\\n\",L)\n",
    "print(\"\\n Upper Triangular Matrix(U) :\\n\",U)\n",
    "decomposition = P.dot((L.dot(U)))\n",
    "print(\"\\n After LU decomposition, original matrix is: \\n\", decomposition)"
   ]
  },
  {
   "cell_type": "code",
   "execution_count": 20,
   "id": "7bfd4459",
   "metadata": {},
   "outputs": [
    {
     "name": "stdout",
     "output_type": "stream",
     "text": [
      "\n",
      " Solution of Linear Equations is:\n",
      "\n",
      "[[ 7.42857143]\n",
      " [ 2.71428571]\n",
      " [-2.71428571]] \n",
      "\n",
      "System of Linear equations has unique solution\n"
     ]
    }
   ],
   "source": [
    "# Task(c)...........................\n",
    "A = np.asarray(rows, dtype=np.int64)\n",
    "b = np.asarray(vector, dtype=np.int64)\n",
    "X = np.linalg.solve(A, b)\n",
    "print(\"\\n Solution of Linear Equations is:\\n\")\n",
    "print(X,\"\\n\")\n",
    "\n",
    "RankOfMatrix = np.linalg.matrix_rank(A)\n",
    "#print(RankOfMatrix)\n",
    "\n",
    "AugmentedMatrix = np.concatenate((A,b),axis=1)\n",
    "#print(AugmentedMatrix)\n",
    "\n",
    "RankOfAugmentedMatrix = np.linalg.matrix_rank(AugmentedMatrix)\n",
    "#print(RankOfAugmentedMatrix)\n",
    "\n",
    "dimensionOfMatrix =A.shape \n",
    "noOfVariables = dimensionOfMatrix[1]\n",
    "#print(noOfVariables)\n",
    "\n",
    "if (RankOfMatrix == RankOfAugmentedMatrix and RankOfMatrix==noOfVariables):\n",
    "     print(\"System of Linear equations has unique solution\")\n",
    "if (RankOfMatrix == RankOfAugmentedMatrix and RankOfMatrix<noOfVariables):  \n",
    "    print(\"System of Linear equations have Infinietly many solutions\")\n",
    "if(RankOfMatrix != RankOfAugmentedMatrix):\n",
    "    print(\"System of Linear equations have no solution\")"
   ]
  },
  {
   "cell_type": "code",
   "execution_count": 21,
   "id": "386161f8",
   "metadata": {},
   "outputs": [
    {
     "name": "stdout",
     "output_type": "stream",
     "text": [
      "Matrix : Matrix([[3, -2, 4], [-2, 6, 2], [4, 2, 3]])  \n",
      "\n",
      "Diagonal of a matrix : Matrix([[-2, 0, 0], [0, 7, 0], [0, 0, 7]])\n"
     ]
    }
   ],
   "source": [
    "# Task(d)...........................\n",
    "import sympy \n",
    "from sympy import *  \n",
    "M=Matrix(A)\n",
    "print(\"Matrix : {} \".format(M),\"\\n\")\n",
    "P, D = M.diagonalize()\n",
    "print(\"Diagonal of a matrix : {}\".format(D))"
   ]
  },
  {
   "cell_type": "code",
   "execution_count": 22,
   "id": "5b539cc1",
   "metadata": {},
   "outputs": [
    {
     "name": "stdout",
     "output_type": "stream",
     "text": [
      "Exponential function on matrix A: \n",
      "\n",
      "[[2.00855369e+01 1.35335283e-01 5.45981500e+01]\n",
      " [1.35335283e-01 4.03428793e+02 7.38905610e+00]\n",
      " [5.45981500e+01 7.38905610e+00 2.00855369e+01]] \n",
      "\n",
      "\n",
      " Sine function on matrix A: \n",
      "\n",
      "[[ 0.14112001 -0.90929743 -0.7568025 ]\n",
      " [-0.90929743 -0.2794155   0.90929743]\n",
      " [-0.7568025   0.90929743  0.14112001]] \n",
      "\n",
      "\n",
      " Sigmoid function on matrix A: \n",
      "\n",
      "[[0.95257413 0.11920292 0.98201379]\n",
      " [0.11920292 0.99752738 0.88079708]\n",
      " [0.98201379 0.88079708 0.95257413]]\n"
     ]
    }
   ],
   "source": [
    "# Task(e).............................\n",
    "\n",
    "#Exponential function on matrix A-----------------------------------------------\n",
    "print(\"Exponential function on matrix A: \\n\")\n",
    "print(np.exp(A),\"\\n\")\n",
    "\n",
    "#sine function on matrix A------------------------------------------------------\n",
    "Sin_Values = np.sin(A)\n",
    "print(\"\\n Sine function on matrix A: \\n\")\n",
    "print ( Sin_Values,\"\\n\")\n",
    "\n",
    "#sigmoid function on matrix A---------------------------------------------------\n",
    "from scipy.special import expit\n",
    "Sigmoid_matrix=expit(A) #expit function is for vectorised sigmoid function in scipy packages\n",
    "print(\"\\n Sigmoid function on matrix A: \\n\")\n",
    "print(Sigmoid_matrix )\n"
   ]
  },
  {
   "cell_type": "code",
   "execution_count": 23,
   "id": "c0d32946",
   "metadata": {},
   "outputs": [
    {
     "name": "stdout",
     "output_type": "stream",
     "text": [
      "Eigenvalues........\n",
      "\n",
      "[ 7. -2.  7.]\n",
      "\n",
      "\n",
      "Eigenvectors........\n",
      "\n",
      "[[ 0.74535599 -0.66666667 -0.08265645]\n",
      " [-0.2981424  -0.33333333  0.92197303]\n",
      " [ 0.59628479  0.66666667  0.37833006]]\n"
     ]
    }
   ],
   "source": [
    "# Task(f)..................................................\n",
    "\n",
    "eigenvalues, eigenvectors = np.linalg.eig(A)\n",
    "print(\"Eigenvalues........\\n\")\n",
    "print(eigenvalues)\n",
    "print(\"\\n\")\n",
    "print(\"Eigenvectors........\\n\")\n",
    "print(eigenvectors)"
   ]
  }
 ],
 "metadata": {
  "kernelspec": {
   "display_name": "Python 3 (ipykernel)",
   "language": "python",
   "name": "python3"
  },
  "language_info": {
   "codemirror_mode": {
    "name": "ipython",
    "version": 3
   },
   "file_extension": ".py",
   "mimetype": "text/x-python",
   "name": "python",
   "nbconvert_exporter": "python",
   "pygments_lexer": "ipython3",
   "version": "3.9.13"
  }
 },
 "nbformat": 4,
 "nbformat_minor": 5
}
